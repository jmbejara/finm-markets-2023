{
 "cells": [
  {
   "cell_type": "markdown",
   "id": "6ef13d47",
   "metadata": {},
   "source": [
    "# D.0. Introduction\n",
    "\n",
    "## Markets Foundations\n",
    "\n",
    "### UChicago Financial Mathematics\n",
    "\n",
    "#### September 2023\n",
    "\n",
    "* Mark Hendricks\n",
    "* hendricks@uchicago.edu"
   ]
  },
  {
   "cell_type": "markdown",
   "id": "c18761bd",
   "metadata": {},
   "source": [
    "# This Course\n",
    "\n",
    "## Objectives\n",
    "\n",
    "The main objective is **context**!\n",
    "\n",
    "* We are not here to cram and memorize everythinig you will need to know. \n",
    "* You will be learning throughout the year in courses, workshops, and many other opportunities. \n",
    "\n",
    "That learning will be faster and deeper if you have\n",
    "* foundations (tools, terminology)\n",
    "* context (map, questions, data)\n",
    "\n",
    "The August Review course was a start."
   ]
  },
  {
   "cell_type": "markdown",
   "id": "2731b0bf",
   "metadata": {},
   "source": [
    "## Multidisciplinary\n",
    "\n",
    "This group has a **wide variety** of backgrounds/expertise.\n",
    "\n",
    "Our curriculum covers a wide range of topics, including\n",
    "* fixed income and their derivatives\n",
    "* equities and their derivatives\n",
    "* currencies\n",
    "* commodities\n",
    "* economics\n",
    "\n",
    "We will consider these topics from various perspectives, \n",
    "* finance\n",
    "* math\n",
    "* stats\n",
    "* computing\n",
    "* industry practice\n",
    "\n",
    "We do not expect that any of you are **quadruple majors** with work experience.\n",
    "\n",
    "For areas that are\n",
    "* New - lean into it\n",
    "* Familiar - add perspective and depth\n",
    "* Comfortable - dig into advanced topics"
   ]
  },
  {
   "cell_type": "markdown",
   "id": "f3402d02",
   "metadata": {},
   "source": [
    "## Engagement\n",
    "\n",
    "This is not a book club.\n",
    "* We are not reading a textbook.\n",
    "* We are meeting to **discuss**.\n",
    "\n",
    "Be an active learner.\n",
    "* Asking a question is not interrupting!\n",
    "* Adding your perspective is valuable.\n",
    "* I will manage the time and flow--don't worry about whether your question/perspective is at the right time.\n",
    "\n",
    "Staying engaged.\n",
    "* We will be in Jupyter notebooks every day.\n",
    "* Use them to explore and extend on our topics."
   ]
  },
  {
   "cell_type": "markdown",
   "id": "28497523",
   "metadata": {},
   "source": [
    "## Get the Most Out of September Launch\n",
    "\n",
    "Avoid common pitfalls.\n",
    "\n",
    "#### Hesitancy\n",
    "* Being too cautious, wanting to wait until you know more to engage.\n",
    "* Feeling too overwhelmed to just get going, one step at a time.\n",
    "* Relying too much on group members to do the applications.\n",
    "\n",
    "#### Narrowly focusing\n",
    "* Avoiding topic areas where you have less experience / interest.\n",
    "* Not doing the prep to get the most out of each day."
   ]
  },
  {
   "cell_type": "markdown",
   "id": "19f4cdbe",
   "metadata": {},
   "source": [
    "## Why This Course\n",
    "* Foundations for other courses\n",
    "* Foundations for job search"
   ]
  },
  {
   "cell_type": "markdown",
   "id": "a47f9756",
   "metadata": {},
   "source": [
    "# Who Am I?\n",
    "\n",
    "My Role\n",
    "* Director of Financial Mathematics\n",
    "* Associate Senior Instructional Professor, Department of Mathematics, University of Chicago\n",
    "\n",
    "Courses include\n",
    "* Portfolio and Risk Management\n",
    "* Fixed Income\n",
    "* Fixed-Income Derivatives\n",
    "* Data Analysis\n",
    "\n",
    "Previous \n",
    "\n",
    "My Academic Experience\n",
    "* Taught at the Booth School of Business and the Department of Economics.\n",
    "* PhD studies at Chicago Booth, research focus in asset pricing dynamics.\n",
    "\n",
    "My Industry Experience\n",
    "* Director of Quant Strategy (hedge fund)\n",
    "* Consultant on risk and research (hedge-fund, private equity)\n",
    "* Consultant (large trading firm)\n",
    "* Consultant on data science (non-financial firm)"
   ]
  }
 ],
 "metadata": {
  "language_info": {
   "name": "python"
  }
 },
 "nbformat": 4,
 "nbformat_minor": 5
}
